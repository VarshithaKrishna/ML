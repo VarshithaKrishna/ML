{
  "nbformat": 4,
  "nbformat_minor": 0,
  "metadata": {
    "colab": {
      "provenance": [],
      "mount_file_id": "1EQqA5AOUc_TutOQoZ3i1GfvNzV2Hu9zz",
      "authorship_tag": "ABX9TyN0Bhp0FqxCGCizTJm43dqw",
      "include_colab_link": true
    },
    "kernelspec": {
      "name": "python3",
      "display_name": "Python 3"
    },
    "language_info": {
      "name": "python"
    }
  },
  "cells": [
    {
      "cell_type": "markdown",
      "metadata": {
        "id": "view-in-github",
        "colab_type": "text"
      },
      "source": [
        "<a href=\"https://colab.research.google.com/github/VarshithaKrishna/xyz/blob/main/Attendance_Tracker.ipynb\" target=\"_parent\"><img src=\"https://colab.research.google.com/assets/colab-badge.svg\" alt=\"Open In Colab\"/></a>"
      ]
    },
    {
      "cell_type": "code",
      "execution_count": null,
      "metadata": {
        "id": "RmXoHT9xV1Aw",
        "colab": {
          "base_uri": "https://localhost:8080/"
        },
        "outputId": "49893d06-2efd-4251-a42b-76b79aad9010"
      },
      "outputs": [
        {
          "output_type": "stream",
          "name": "stdout",
          "text": [
            "{'21NN1A0502-Bhavya Sri Baggi-CSE': 67, '21NN1A12B2-Shaik Naazia-IT': 77, '21NN1A0570-Sravya-CSE': 70, '21NN1A0569-Ch.V.L.Satwika-CSE': 8, '21NN1A1273-DUGGEMPUDI LAKSHMI GAYATHRI-IT': 63, 'N Ravi Kumar - APSSDC': 142, '22NN1A4404-Shruthi-CSE-DS (Bandarupalli Shruthi)': 12, '22NN1A4434HimasriPakalapatiCSE-DS (Himasri Pakalapati)': 12, '21NN1A0565-Y.V.N.KRISHNS SREE CSE A (venkata naga krishna sree yedukondala)': 122, '21NN1A05C0-PravallikaThati-CSE (21NN1A05C0-Pravallika Thati -CSE)': 27, '22NN1A4415- nagajyothi-CSD': 130, '21NN1A1258- Supriya-IT': 110, '21NN1A05I5-Thumati Bhavani-CSE (21NN1A05I5 - Thumati Bhavani - CSE)': 53, '22NN1A4404-Shruthi-CSE-DS': 6, '22nn1a4426bhagyasriambika (cse-ds) (Bhagyasriambika kuchipudi)': 65, '21NN1A1274-amulya-IT': 118, '21NN1A0549-Aswini-CSE (21NN1A0549 Aswini-CSE)': 117, '21NN1A0544-Naveena -CSE': 111, '22NN1A4220-NagaTriveni-AI&ML': 106, '21NN1A0524-Lakshmi Prasanna-CSE': 15, '21NN1A0545-Balakumari-CSE': 111, '21NN1A05C0-PravallikaThati-CSE': 98, '22NN1A4438-Bhavitha-(CSE-DS)': 1, '22NN1A4421-Trisha-CSE-DS': 47, '22NN5A0504-Thanusha-CSE': 66, '22NN1A4233-Sripoojitha_CSM(AL&ML)': 55, '22NN1A4211-Praneetha Chutla-CSE(AIML)': 74, '22NN1A4256-divya-CSM': 50, '21NN1A05I5-Thumati Bhavani-CSE': 33, '21NN1A05B4-SHREYASARVAN-CSE': 2, '22NN1A4249-ShaikFarjana-CSE(AI&ML)': 2, '21NN1A0556-Rajeswari-CSE': 80, '22NN1A4404-Shruthi-CSD (22NN1A4404-Shruthi-CSE-DS)': 14, '22NN1A4407 -Susmitha bolla Cse-ds': 115, '22NN1A4434HimasriPakalapatiCSE-DS': 28, '21NN1A1242-Nandipati Vijaya Lakshmi-IT': 47, '21NN1A0520-SaiLakshmi- CSE': 103, '22nn1a4429-Mohammad Nousheen Tabassum-CSE-DS (Mohammad Nousheen Tabassum)': 109, '21NN1A0504 RamaBhargavi-CSE': 3, '22NN1A4257-Thangirala Pravallika-CSE-AIML (Pravallika Thangirala)': 44, '21NN1A0546-Sriya-CSE': 105, '22NN1A4414- Hema Nandini-CSD': 14, '21NN1A0513-Mallika-CSE': 40, '21NN1A1258- V.Supriya-IT': 2, '22NN1A4233-Sripoojitha_CSM(AL&ML) (Sripoojitha Masanam)': 46, '21NN1A12A3-Mubeena-IT': 107, '21NN1A0562-Durga Bhavani-CSE': 101, '21NN1A0531-Meghana-CSE': 39, '21NN1A05B3 -Muskan Shaik (Muskan Shaik)': 104, '21NN1A0536-Kurcheti Asha-CSE': 111, '21NN1A0524-Kakarla Lakshmi Prasanna-CSE (21NN1A0524-Lakshmi Prasanna-CSE)': 32, '22NN1A4404-Shruthi-CSD': 47, '22NN1A4438-Bhavitha-(CSE-DS) (Bhavitha Peravali)': 10, '21NN1A0518-Manaswini-CSE': 90, '21NN1A1277-Luthiya Prabhavathi-IT': 94, '22NN1A4253-shiny- -CSE(AI&ML)': 100, '21NN1A1249-SriBhavana-ITA': 88, '21NN1A0557-Sanisetty Ahalya-CSE': 71, '21NN1A0521-VarshaJaladi-CSE': 10, '22NN1A4411-Bindusree-CSE(DS)': 38, '22NN1A4421-Trisha-CSE-DS (Trisha Kesari)': 5, '22NN1A4437-HEMA-CSE-DS (patnapu Hema)': 47, '22NN1A4428-PavaniSaroja-CSD': 21, '21NN1A05C1-Tumati Vishnupriya-CSE': 74, '22NN1A4434-Himasri Pakalapati-CSE-DS (Himasri Pakalapati)': 36, '21NN1A0521-VarshaJaladi- CSE': 65, '21NN1A0552-Sree-CSE': 11, '21NN1A0538-Maddali Mounika-CSE': 4, '21NN1A0524-Kakarla Lakshmi Prasanna-CSE': 62, '21NN1A0547-Sowmya-CSE': 66, '22NN1A4257-Pravallika Thangirala-CSE-AIML (Pravallika Thangirala)': 61, '21NN1A1202-avanthi naidu konkala-IT': 66, '21NN1A12C5  Vemula Anitha-IT (Vemula Anitha)': 53, '22nn1a4426bhagyasriambika (cse-ds)': 47, '22NN1A4234-jayasri-CSE(aiml)': 21, '21NN1A0504-Rama Bhargavi Bathini-CSE': 45, '21NN1A0551-Madhuri-CSE': 25, '22NN1A4218-Komali-CSE(AIML)': 55, '22NN1A4434-Himasri Pakalapati-CSE-DS': 44, '21NN1A1219-Sri Harshitha-IT': 11, '21NN1A0510-Archana Dupati -CSE': 34, '21NN1A0514-Greshma-CSE': 27, '22NN1A4427-chandrika-CSE': 29, '21NN1A0526-Mallika-CSE': 9, '21NN1A0506-Bhavyasri Battula-CSE': 4, '21NN1A0540-Sivani-CSE': 1, '22NN1A4259-Pravalika-CSE': 1}\n"
          ]
        }
      ],
      "source": [
        "import pandas as pd\n",
        "df=pd.read_csv(\"/content/11-03-2024.csv\")\n",
        "names=list(df.loc[:,\"Name (Original Name)\"])\n",
        "for name in range(len(names)):\n",
        "  k=names[name].split('-')\n",
        "  if len(k)<2 or len(k[0].strip())<5:\n",
        "    df.drop(name,axis=0,inplace=True)\n",
        "  else:\n",
        "    if len(k)==3:\n",
        "      branch=k[2].strip().upper()\n",
        "      if branch!='CSE' and branch!='IT' and branch!='CSE(AIML)' and branch!='CSE(DS)' and branch!='CSE(AI&ML)' and branch!='AIML' and branch!='AI&ML' and branch!='DS' and branch!='ITA' and branch!='ITB' and branch!='CSM' and branch!='CSD' :\n",
        "        df.drop(name,axis=0,inplace=True)\n",
        "df.to_csv(\"/content/drive/MyDrive/filtered.csv\")\n",
        "\n",
        "df1=pd.read_csv(\"/content/drive/MyDrive/filtered.csv\")\n",
        "duration={}\n",
        "for i in range(len(df1)):\n",
        "  stu=df1.loc[i]\n",
        "  if stu[\"Name (Original Name)\"] in duration:\n",
        "    duration[stu[\"Name (Original Name)\"]]+=stu[\"Duration (Minutes)\"]\n",
        "  else:\n",
        "    duration[stu[\"Name (Original Name)\"]]=stu[\"Duration (Minutes)\"]\n",
        "print(duration)\n",
        "\n",
        "followed=[['rollno','name','branch','duration']]\n",
        "unfollowed=[]\n",
        "for n in duration:\n",
        "  details=n.split(\"-\")\n",
        "  if len(details)>=3:\n",
        "    deet=[details[0],details[1],details[2],duration[n]]\n",
        "  elif len(details)==2:\n",
        "    deet=[details[0],details[1]]\n",
        "    deet.append(0)\n",
        "    deet.append(duration[n])\n",
        "  if duration[n]>=80:\n",
        "    followed.append(deet)\n",
        "  else:\n",
        "    unfollowed.append(deet)\n",
        "followed_df=pd.DataFrame(followed)\n",
        "unfollowed_df=pd.DataFrame(unfollowed)\n",
        "followed_df.to_csv(\"/content/drive/MyDrive/followed.csv\")\n",
        "unfollowed_df.to_csv(\"/content/drive/MyDrive/unfollowed.csv\")\n",
        "\n"
      ]
    },
    {
      "cell_type": "markdown",
      "source": [],
      "metadata": {
        "id": "-dh1IshTRdIS"
      }
    }
  ]
}